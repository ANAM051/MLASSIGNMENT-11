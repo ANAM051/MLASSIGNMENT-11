{
 "cells": [
  {
   "cell_type": "markdown",
   "id": "2e165b38",
   "metadata": {},
   "source": [
    "1. Given X be a discrete random variable with the following PMF\n",
    "\n",
    "1. Find the range RX of the random variable X.\n",
    "2. Find P(X ≤ 0.5)\n",
    "3. Find P(0.25&lt;X&lt;0.75)\n",
    "4. P(X = 0.2|X&lt;0.6)\n",
    "2. Two equal and fair dice are rolled, and we observed two numbers X and Y.\n",
    "1. Find RX, RY, and the PMFs of X and Y.\n",
    "2. Find P(X = 2,Y = 6).\n",
    "3. Find P(X&gt;3|Y = 2).\n",
    "4. If Z = X + Y. Find the range and PMF of Z.\n",
    "5. Find P(X = 4|Z = 8).\n",
    "3. In an exam, there were 20 multiple-choice questions. Each question had 44 possible\n",
    "options. A student knew the answer to 10 questions, but the other 10 questions were unknown\n",
    "to him, and he chose answers randomly. If the student X&#39;s score is equal to the total number\n",
    "of correct answers, then find out the PMF of X. What is P(X&gt;15)?\n",
    "4. The number of students arriving at a college between a time interval is a Poisson random\n",
    "variable. On average, 10 students arrive per hour. Let Y be the number of students arriving\n",
    "from 10 am to 11:30 am. What is P(10&lt;Y≤15)?\n",
    "5.Two independent random variables, X and Y,are given such that X~Poisson(α) and\n",
    "Y~Poisson(β). State a new random variable as Z = X + Y. Find out the PMF of Z.\n",
    "6. There is a discrete random variable X with the pmf. \n",
    "\n",
    "If we define a new random variable Y = (X + 1)2 then\n",
    "\n",
    "1. Find the range of Y.\n",
    "\n",
    "2. Find the pmf of Y.\n",
    "\n",
    "2.Assuming X is a continuous random variable with PDF\n",
    "\n",
    "1. Find EX and Var(X).\n",
    "2. Find P(X ≥ ).\n",
    "\n",
    "2. If X is a continuous random variable with pdf \n",
    "\n",
    "3. If X~Uniform and Y = sin(X), then find f Y (y).\n",
    "4. If X is a random variable with CDF \n",
    "\n",
    "1. What kind of random variable is X: discrete, continuous, or mixed?\n",
    "\n",
    "2. Find the PDF of X, fX(x).\n",
    "3. Find E(e X ).\n",
    "4. Find P(X = 0|X≤0.5).\n",
    "\n",
    "2. There are two random variables X and Y with joint PMF given in Table below\n",
    "\n",
    "1. Find P(X≤2, Y≤4).\n",
    "2. Find the marginal PMFs of X and Y.\n",
    "3. Find P(Y = 2|X = 1).\n",
    "4. Are X and Y independent? \n",
    "\n",
    "6.A box containing 40 white shirts and 60 black shirts. If we choose 10 shirts (without replacement)\n",
    "at random, find the joint PMF of X and Y, where X is the number of white shirts and Y is the number\n",
    "of black shirts.\n",
    "\n",
    "7.If A and B are two jointly continuous random variables with joint PDF\n",
    "\n",
    "a. Find fX(a) and fY(b).\n",
    "\n",
    "b. Are A and B independent of each other?\n",
    "\n",
    "c. Find the conditional PDF of A given B = b, fA|B(a|b).\n",
    "\n",
    "d. Find E[A|B = b], for 0 ≤ y ≤ 1.\n",
    "\n",
    "e. Find Var(A|B = b), for 0 ≤ y ≤ 1.\n",
    "\n",
    "8.There are 100 men on a ship. If Xi is the ith man&#39;s weight on the ship and Xi&#39;s are independent and\n",
    "identically distributed and EXi = μ = 170 and σXi = σ = 30. Find the probability that the men&#39;s total\n",
    "weight on the ship exceeds 18,000.\n",
    "\n",
    "9.Let X1, X2, ……, X25 are independent and identically distributed. And have the following PMF\n",
    "\n",
    "If Y = X1 + X2 + … + Xn, estimate P(4 ≤ Y ≤ 6) using central limit theorem."
   ]
  },
  {
   "cell_type": "markdown",
   "id": "d156a4f8",
   "metadata": {},
   "source": [
    "1.1.RANGE of X is {0.2,0.4,0.5,0.8,1}"
   ]
  },
  {
   "cell_type": "markdown",
   "id": "17a85717",
   "metadata": {},
   "source": [
    "1.2.P(X<=0.5)=0.1+0.2=0.3"
   ]
  },
  {
   "cell_type": "markdown",
   "id": "7b16df72",
   "metadata": {},
   "source": [
    "1.3.P(0.25<X<0.75)=0.2+0.2=0.4"
   ]
  },
  {
   "cell_type": "markdown",
   "id": "6511f575",
   "metadata": {},
   "source": [
    "1.4.P(X=0.2|X<0.6)=0.1+0.2+0.2=0.5"
   ]
  },
  {
   "cell_type": "markdown",
   "id": "37933cac",
   "metadata": {},
   "source": [
    "2.1.RX={1,2,3,4,5,6}\n",
    "    RY={1,2,3,4,5,6}\n",
    "    PMF(X)={1/6 FOR X=1\n",
    "            1/6 FOR X=2\n",
    "            1/6 FOR X=3\n",
    "            1/6 FOR X=4\n",
    "            1/6 FOR X=5\n",
    "            1/6 FOR X=6},same pmf is for Y"
   ]
  },
  {
   "cell_type": "markdown",
   "id": "0b8d5052",
   "metadata": {},
   "source": [
    "2.2.P(X=2,Y=6)=(1/6,1/6)"
   ]
  },
  {
   "cell_type": "markdown",
   "id": "b5557381",
   "metadata": {},
   "source": [
    "2.3.P(X>3|Y=2)=(3/6,1/6)"
   ]
  },
  {
   "cell_type": "markdown",
   "id": "ac4d0978",
   "metadata": {},
   "source": [
    "2.4.Range of Z={2,4,6,8,10,12}\n",
    "    "
   ]
  },
  {
   "cell_type": "markdown",
   "id": "9780d4f4",
   "metadata": {},
   "source": [
    "3.Let's define the random variable Y\n",
    "\n",
    "as the number of your correct answers to the 10\n",
    "\n",
    "questions you answer randomly. Then your total score will be X=Y+10\n",
    "\n",
    ". First, let's find the PMF of Y\n",
    "\n",
    ". For each question your success probability is 14\n",
    "\n",
    ". Hence, you perform 10\n",
    "\n",
    "independent Bernoulli(14)\n",
    "\n",
    "trials and Y\n",
    "\n",
    "is the number of successes. Thus, we conclude Y∼Binomial(10,14)\n",
    "\n",
    ", so\n",
    "\n",
    "PY(y)={(10y)(14)y(34)10−y0for y=0,1,2,3,4,5,6,7,8,9,10\n",
    "\n",
    "Now we need to find the PMF of X=Y+10\n",
    "\n",
    ". First note that RX={10,11,12,13,14,15,16,17,18,19,20}\n",
    "\n",
    ". We can write\n",
    "\n",
    "PX(10)\n",
    "\n",
    "=P(X=10)=P(Y+10=10)\n",
    "\n",
    "=P(Y=0)=(100)(14)0(34)10−0=(34)10\n",
    "\n",
    ";\n",
    "\n",
    "PX(11)\n",
    "\n",
    "=P(X=11)=P(Y+10=11)\n",
    "\n",
    "=P(Y=1)=(101)(14)1(34)10−1=10(14)(34)9\n",
    "\n",
    ".\n",
    "\n",
    "So, you get the idea. In general for k∈RX={10,11,12,...,20}\n",
    "\n",
    ",\n",
    "\n",
    "PX(k)\n",
    "\n",
    "=P(X=k)=P(Y+10=k)\n",
    "\n",
    "=P(Y=k−10)=(10k−10)(14)k−10(34)20−k\n",
    "\n",
    ".\n",
    "\n",
    "To summarize,\n",
    "\n",
    "PX(k)={(10k−10)(14)k−10(34)20−k0for k=10,11,12,...,20otherwise\n",
    "\n",
    "In order to calculate P(X>15)\n",
    "\n",
    ", we know we should consider y=6,7,8,9,10\n",
    "\n",
    "PY(y)={(10y)(14)y(34)10−y0for y=6,7,8,9,10otherwise\n",
    "\n",
    "PX(k)={(10k−10)(14)k−10(34)20−k0for k=16,17,...,20otherwise\n",
    "\n",
    "P(X>15)=PX(16)+PX(17)+PX(18)+PX(19)+PX(20)=(106)(14)6(34)4+(107)(14)7(34)3+(108)(14)8(34)2+(109)(14)9(34)1+(1010)(14)10(34)0."
   ]
  },
  {
   "cell_type": "markdown",
   "id": "84dea202",
   "metadata": {},
   "source": [
    "4.To find the probability of a Poisson random variable, we can use the following formula1:\n",
    "P(X=x)=x!e−λλx​\n",
    "where λ is the mean number of events and x is the number of successes.\n",
    "In this question, the mean number of students arriving per hour is 10, so λ=10. However, since we are interested in the number of students arriving from 10 am to 11:30 am, which is 1.5 hours, we need to adjust λ accordingly. Therefore, λ=10×1.5=15.\n",
    "We want to find the probability that 10 < Y ≤ 15, which means the probability that more than 10 but less than or equal to 15 students arrive in 1.5 hours. To do this, we can use the cumulative distribution function (CDF) of the Poisson distribution, which gives the probability that X is less than or equal to a given value. The CDF is given by2:\n",
    "P(X≤x)=e−λk=0∑x​k!λk​\n",
    "Using this formula, we can calculate the probability that 10 < Y ≤ 15 as follows:\n",
    "P(10<Y≤15)=P(Y≤15)−P(Y≤10)\n",
    "=e−15k=0∑15​k!15k​−e−15k=0∑10​k!15k​\n",
    "≈0.616−0.118\n",
    "=0.498\n",
    "Therefore, the probability that 10 < Y ≤ 15 is 0.498. I"
   ]
  },
  {
   "cell_type": "markdown",
   "id": "da66d848",
   "metadata": {},
   "source": [
    "5.\n",
    "The PMF of Z is the probability mass function of the sum of two independent Poisson random variables X and Y. There are different ways to derive the PMF of Z, such as using the law of total probability, the characteristic function, or the probability generating function123. Here is one possible method using the law of total probability:\n",
    "P(Z=k)=P(X+Y=k)=i=0∑k​P(X+Y=k∣X=i)P(X=i)=i=0∑k​P(Y=k−i)P(X=i)=i=0∑k​e−β(k−i)!βk−i​e−αi!αi​=e−(α+β)k!1​i=0∑k​i!(k−i)!k!​βk−iαi=e−(α+β)k!1​i=0∑k​(ik​)βk−iαi=e−(α+β)k!(α+β)k​\n",
    "Therefore, we can conclude that Z follows a Poisson distribution with parameter α+β, that is, Z∼Poisson(α+β)."
   ]
  },
  {
   "cell_type": "markdown",
   "id": "3d16c824",
   "metadata": {},
   "source": [
    "6.Let X be the number of white shirts and Y be the number of black shirts in the sample of 10 shirts. Then, the joint PMF of X and Y is given by:\n",
    "P(X=x,Y=y)=(10100​)(x40​)(y60​)​,for x=0,1,…,10 and y=10−x\n",
    "This is because we are sampling without replacement, and the number of ways to choose x white shirts out of 40 and y black shirts out of 60 is (x40​)(y60​). The total number of ways to choose 10 shirts out of 100 is (10100​). Therefore, the probability of each outcome is the ratio of these two numbers."
   ]
  },
  {
   "cell_type": "markdown",
   "id": "7e1d2834",
   "metadata": {},
   "source": [
    "8.To find the probability that the total weight of the men on the plane exceeds 18,000 pounds, we can use the Central Limit Theorem. According to the Central Limit Theorem, the sum of a large number of independent and identically distributed random variables approaches a normal distribution.\n",
    "\n",
    "In this case, the total weight of the men on the plane is the sum of the weights of each individual. Let's denote the total weight as W. Since the Xi's are i.i.d., the mean of the total weight is given by E(W) = n * μ, where n is the number of men on the plane and μ is the mean weight of an individual. Similarly, the standard deviation of the total weight is given by SD(W) = sqrt(n) * σ, where σ is the standard deviation of an individual's weight.\n",
    "\n",
    "In our case, n = 100, μ = 170, and σ = 30. Therefore, E(W) = 100 * 170 = 17,000 and SD(W) = sqrt(100) * 30 = 300.\n",
    "\n",
    "To find the probability that the total weight exceeds 18,000 pounds, we can standardize the variable using the z-score formula: z = (x - μ) / σ, where x is the value we want to find the probability for.\n",
    "\n",
    "In this case, we want to find the probability that W > 18,000. So, we calculate the z-score for 18,000: z = (18,000 - 17,000) / 300 = 1/3.\n",
    "\n",
    "Using a standard normal distribution table or calculator, we can find the probability corresponding to a z-score of 1/3. The probability is approximately 0.3707.\n",
    "\n",
    "Therefore, the probability that the total weight of the men on the plane exceeds 18,000 pounds is approximately 0.3707."
   ]
  },
  {
   "cell_type": "markdown",
   "id": "0105022d",
   "metadata": {},
   "source": [
    "9."
   ]
  }
 ],
 "metadata": {
  "kernelspec": {
   "display_name": "Python 3 (ipykernel)",
   "language": "python",
   "name": "python3"
  },
  "language_info": {
   "codemirror_mode": {
    "name": "ipython",
    "version": 3
   },
   "file_extension": ".py",
   "mimetype": "text/x-python",
   "name": "python",
   "nbconvert_exporter": "python",
   "pygments_lexer": "ipython3",
   "version": "3.9.12"
  }
 },
 "nbformat": 4,
 "nbformat_minor": 5
}
